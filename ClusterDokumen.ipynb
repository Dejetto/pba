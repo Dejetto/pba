{
 "cells": [
  {
   "cell_type": "markdown",
   "metadata": {},
   "source": [
    "# Tim - Project Kelompok 6\n",
    "\n",
    "\n",
    "\n",
    "    Anggota :\n",
    "\n",
    "    Ahmad Fadillah (PYTN-KS17-06)\n",
    "    Felic Wicent (PYTN-KS17-025)\n",
    "    Haniefa Aulia Rahma (PYTN-KS17-01)\n",
    "\n",
    "    Instructor : Chamdan L Abdulbaaqiy\n",
    "    Project : Clustering pada Credit Card Dataset for Clustering\n",
    "    Batch : 5\n"
   ]
  },
  {
   "cell_type": "markdown",
   "metadata": {},
   "source": [
    "# A. Perkenalan"
   ]
  },
  {
   "cell_type": "markdown",
   "metadata": {},
   "source": [
    "## A.1 Latar Belakang"
   ]
  },
  {
   "cell_type": "markdown",
   "metadata": {},
   "source": [
    "Tambahkan Deskripsi Final Project"
   ]
  },
  {
   "cell_type": "markdown",
   "metadata": {},
   "source": [
    "## A.2 Dataset"
   ]
  },
  {
   "cell_type": "markdown",
   "metadata": {},
   "source": [
    "Tambahkan Deskripsi Dataset, dapat darimana, tahun dll"
   ]
  },
  {
   "cell_type": "markdown",
   "metadata": {},
   "source": [
    "## A.3 Objectif"
   ]
  },
  {
   "cell_type": "markdown",
   "metadata": {},
   "source": [
    "Tambahkan Objektif apa saja yang ingin dicapai di final project kalian....\n",
    "\n",
    "Contoh punya gw\n",
    "Adapun Objektif yang ingin di capai :\n",
    "1. `Mempersiapkan data yang optimal untuk clustering.`\n",
    "2. `Mengevaluasi algoritma - algoritma clustering.`"
   ]
  },
  {
   "cell_type": "markdown",
   "metadata": {},
   "source": [
    "# B. Import Package"
   ]
  },
  {
   "cell_type": "code",
   "execution_count": 1,
   "metadata": {},
   "outputs": [
    {
     "name": "stderr",
     "output_type": "stream",
     "text": [
      "[nltk_data] Downloading package stopwords to\n",
      "[nltk_data]     C:\\Users\\zakan\\AppData\\Roaming\\nltk_data...\n",
      "[nltk_data]   Package stopwords is already up-to-date!\n",
      "[nltk_data] Downloading package averaged_perceptron_tagger to\n",
      "[nltk_data]     C:\\Users\\zakan\\AppData\\Roaming\\nltk_data...\n",
      "[nltk_data]   Package averaged_perceptron_tagger is already up-to-\n",
      "[nltk_data]       date!\n",
      "[nltk_data] Downloading package omw-1.4 to\n",
      "[nltk_data]     C:\\Users\\zakan\\AppData\\Roaming\\nltk_data...\n",
      "[nltk_data]   Package omw-1.4 is already up-to-date!\n",
      "[nltk_data] Downloading package punkt to\n",
      "[nltk_data]     C:\\Users\\zakan\\AppData\\Roaming\\nltk_data...\n",
      "[nltk_data]   Package punkt is already up-to-date!\n",
      "[nltk_data] Downloading package wordnet to\n",
      "[nltk_data]     C:\\Users\\zakan\\AppData\\Roaming\\nltk_data...\n",
      "[nltk_data]   Package wordnet is already up-to-date!\n"
     ]
    },
    {
     "data": {
      "text/plain": [
       "True"
      ]
     },
     "execution_count": 1,
     "metadata": {},
     "output_type": "execute_result"
    }
   ],
   "source": [
    "import nltk\n",
    "nltk.download('stopwords')\n",
    "nltk.download('averaged_perceptron_tagger')\n",
    "nltk.download('omw-1.4')\n",
    "nltk.download('punkt')\n",
    "nltk.download('wordnet')"
   ]
  },
  {
   "cell_type": "code",
   "execution_count": 2,
   "metadata": {},
   "outputs": [],
   "source": [
    "import tkinter as tk\n",
    "import pandas as pd\n",
    "import string\n",
    "import re\n",
    "from sklearn.metrics import silhouette_score\n",
    "from sklearn.metrics.pairwise import cosine_similarity\n",
    "from nltk.corpus import stopwords, wordnet\n",
    "from nltk.tokenize import word_tokenize\n",
    "from nltk.stem import WordNetLemmatizer\n",
    "from nltk.tag import pos_tag\n",
    "from collections import defaultdict\n",
    "from time import time\n",
    "from sklearn.metrics import calinski_harabasz_score, davies_bouldin_score\n",
    "from sklearn.feature_extraction.text import TfidfVectorizer\n",
    "from sklearn.cluster import KMeans\n",
    "from sklearn import metrics\n",
    "from sklearn.metrics import pairwise_distances\n",
    "import numpy as np\n",
    "import matplotlib.pyplot as plt\n",
    "\n",
    "from sklearn.decomposition import TruncatedSVD\n",
    "from sklearn.pipeline import make_pipeline\n",
    "from sklearn.preprocessing import Normalizer"
   ]
  },
  {
   "cell_type": "markdown",
   "metadata": {},
   "source": [
    "# C. Data Loading"
   ]
  },
  {
   "cell_type": "code",
   "execution_count": 3,
   "metadata": {},
   "outputs": [
    {
     "data": {
      "text/html": [
       "<div>\n",
       "<style scoped>\n",
       "    .dataframe tbody tr th:only-of-type {\n",
       "        vertical-align: middle;\n",
       "    }\n",
       "\n",
       "    .dataframe tbody tr th {\n",
       "        vertical-align: top;\n",
       "    }\n",
       "\n",
       "    .dataframe thead th {\n",
       "        text-align: right;\n",
       "    }\n",
       "</style>\n",
       "<table border=\"1\" class=\"dataframe\">\n",
       "  <thead>\n",
       "    <tr style=\"text-align: right;\">\n",
       "      <th></th>\n",
       "      <th>titles</th>\n",
       "      <th>summaries</th>\n",
       "      <th>terms</th>\n",
       "    </tr>\n",
       "  </thead>\n",
       "  <tbody>\n",
       "    <tr>\n",
       "      <th>0</th>\n",
       "      <td>Survey on Semantic Stereo Matching / Semantic ...</td>\n",
       "      <td>Stereo matching is one of the widely used tech...</td>\n",
       "      <td>['cs.CV', 'cs.LG'\\]</td>\n",
       "    </tr>\n",
       "    <tr>\n",
       "      <th>1</th>\n",
       "      <td>FUTURE-AI: Guiding Principles and Consensus Re...</td>\n",
       "      <td>The recent advancements in artificial intellig...</td>\n",
       "      <td>['cs.CV', 'cs.AI', 'cs.LG'\\]</td>\n",
       "    </tr>\n",
       "    <tr>\n",
       "      <th>2</th>\n",
       "      <td>Enforcing Mutual Consistency of Hard Regions f...</td>\n",
       "      <td>In this paper, we proposed a novel mutual cons...</td>\n",
       "      <td>['cs.CV', 'cs.AI'\\]</td>\n",
       "    </tr>\n",
       "    <tr>\n",
       "      <th>3</th>\n",
       "      <td>Parameter Decoupling Strategy for Semi-supervi...</td>\n",
       "      <td>Consistency training has proven to be an advan...</td>\n",
       "      <td>['cs.CV']</td>\n",
       "    </tr>\n",
       "    <tr>\n",
       "      <th>4</th>\n",
       "      <td>Background-Foreground Segmentation for Interio...</td>\n",
       "      <td>To ensure safety in automated driving, the cor...</td>\n",
       "      <td>['cs.CV', 'cs.LG'\\]</td>\n",
       "    </tr>\n",
       "    <tr>\n",
       "      <th>...</th>\n",
       "      <td>...</td>\n",
       "      <td>...</td>\n",
       "      <td>...</td>\n",
       "    </tr>\n",
       "    <tr>\n",
       "      <th>51769</th>\n",
       "      <td>Hierarchically-coupled hidden Markov models fo...</td>\n",
       "      <td>We address the problem of analyzing sets of no...</td>\n",
       "      <td>['stat.ML', 'physics.bio-ph', 'q-bio.QM']</td>\n",
       "    </tr>\n",
       "    <tr>\n",
       "      <th>51770</th>\n",
       "      <td>Blinking Molecule Tracking</td>\n",
       "      <td>We discuss a method for tracking individual mo...</td>\n",
       "      <td>['cs.CV', 'cs.DM']</td>\n",
       "    </tr>\n",
       "    <tr>\n",
       "      <th>51771</th>\n",
       "      <td>Towards a Mathematical Foundation of Immunolog...</td>\n",
       "      <td>We attempt to set a mathematical foundation of...</td>\n",
       "      <td>['stat.ML', 'cs.LG', 'q-bio.GN']</td>\n",
       "    </tr>\n",
       "    <tr>\n",
       "      <th>51772</th>\n",
       "      <td>A Semi-Automatic Graph-Based Approach for Dete...</td>\n",
       "      <td>Diffusion Tensor Imaging (DTI) allows estimati...</td>\n",
       "      <td>['cs.CV']</td>\n",
       "    </tr>\n",
       "    <tr>\n",
       "      <th>51773</th>\n",
       "      <td>SparseCodePicking: feature extraction in mass ...</td>\n",
       "      <td>Mass spectrometry (MS) is an important techniq...</td>\n",
       "      <td>['stat.ML', 'physics.med-ph', 'stat.AP', 'stat...</td>\n",
       "    </tr>\n",
       "  </tbody>\n",
       "</table>\n",
       "<p>51774 rows × 3 columns</p>\n",
       "</div>"
      ],
      "text/plain": [
       "                                                  titles  \\\n",
       "0      Survey on Semantic Stereo Matching / Semantic ...   \n",
       "1      FUTURE-AI: Guiding Principles and Consensus Re...   \n",
       "2      Enforcing Mutual Consistency of Hard Regions f...   \n",
       "3      Parameter Decoupling Strategy for Semi-supervi...   \n",
       "4      Background-Foreground Segmentation for Interio...   \n",
       "...                                                  ...   \n",
       "51769  Hierarchically-coupled hidden Markov models fo...   \n",
       "51770                         Blinking Molecule Tracking   \n",
       "51771  Towards a Mathematical Foundation of Immunolog...   \n",
       "51772  A Semi-Automatic Graph-Based Approach for Dete...   \n",
       "51773  SparseCodePicking: feature extraction in mass ...   \n",
       "\n",
       "                                               summaries  \\\n",
       "0      Stereo matching is one of the widely used tech...   \n",
       "1      The recent advancements in artificial intellig...   \n",
       "2      In this paper, we proposed a novel mutual cons...   \n",
       "3      Consistency training has proven to be an advan...   \n",
       "4      To ensure safety in automated driving, the cor...   \n",
       "...                                                  ...   \n",
       "51769  We address the problem of analyzing sets of no...   \n",
       "51770  We discuss a method for tracking individual mo...   \n",
       "51771  We attempt to set a mathematical foundation of...   \n",
       "51772  Diffusion Tensor Imaging (DTI) allows estimati...   \n",
       "51773  Mass spectrometry (MS) is an important techniq...   \n",
       "\n",
       "                                                   terms  \n",
       "0                                    ['cs.CV', 'cs.LG'\\]  \n",
       "1                           ['cs.CV', 'cs.AI', 'cs.LG'\\]  \n",
       "2                                    ['cs.CV', 'cs.AI'\\]  \n",
       "3                                              ['cs.CV']  \n",
       "4                                    ['cs.CV', 'cs.LG'\\]  \n",
       "...                                                  ...  \n",
       "51769          ['stat.ML', 'physics.bio-ph', 'q-bio.QM']  \n",
       "51770                                 ['cs.CV', 'cs.DM']  \n",
       "51771                   ['stat.ML', 'cs.LG', 'q-bio.GN']  \n",
       "51772                                          ['cs.CV']  \n",
       "51773  ['stat.ML', 'physics.med-ph', 'stat.AP', 'stat...  \n",
       "\n",
       "[51774 rows x 3 columns]"
      ]
     },
     "execution_count": 3,
     "metadata": {},
     "output_type": "execute_result"
    }
   ],
   "source": [
    "# Membuka File dataset arxiv_data.csv dengan Pandas\n",
    "\n",
    "df = pd.read_csv('arxiv_data.csv')\n",
    "pd.set_option('display.max_columns', None)\n",
    "df.reset_index(drop=True)"
   ]
  },
  {
   "cell_type": "code",
   "execution_count": 4,
   "metadata": {},
   "outputs": [
    {
     "data": {
      "text/html": [
       "<div>\n",
       "<style scoped>\n",
       "    .dataframe tbody tr th:only-of-type {\n",
       "        vertical-align: middle;\n",
       "    }\n",
       "\n",
       "    .dataframe tbody tr th {\n",
       "        vertical-align: top;\n",
       "    }\n",
       "\n",
       "    .dataframe thead th {\n",
       "        text-align: right;\n",
       "    }\n",
       "</style>\n",
       "<table border=\"1\" class=\"dataframe\">\n",
       "  <thead>\n",
       "    <tr style=\"text-align: right;\">\n",
       "      <th></th>\n",
       "      <th>Jumlah Baris</th>\n",
       "      <th>Jumlah Kolom</th>\n",
       "    </tr>\n",
       "  </thead>\n",
       "  <tbody>\n",
       "    <tr>\n",
       "      <th>0</th>\n",
       "      <td>51774</td>\n",
       "      <td>3</td>\n",
       "    </tr>\n",
       "  </tbody>\n",
       "</table>\n",
       "</div>"
      ],
      "text/plain": [
       "   Jumlah Baris  Jumlah Kolom\n",
       "0         51774             3"
      ]
     },
     "execution_count": 4,
     "metadata": {},
     "output_type": "execute_result"
    }
   ],
   "source": [
    "# Cek jumlah baris dan kolom\n",
    "\n",
    "row, col = df.shape\n",
    "cek_baris_kolom = pd.DataFrame({'Jumlah Baris': [row], 'Jumlah Kolom': [col]})\n",
    "cek_baris_kolom"
   ]
  },
  {
   "cell_type": "markdown",
   "metadata": {},
   "source": [
    "# D. Data Cleaning"
   ]
  },
  {
   "cell_type": "code",
   "execution_count": 5,
   "metadata": {},
   "outputs": [
    {
     "name": "stdout",
     "output_type": "stream",
     "text": [
      "<class 'pandas.core.frame.DataFrame'>\n",
      "RangeIndex: 51774 entries, 0 to 51773\n",
      "Data columns (total 3 columns):\n",
      " #   Column     Non-Null Count  Dtype \n",
      "---  ------     --------------  ----- \n",
      " 0   titles     51774 non-null  object\n",
      " 1   summaries  51774 non-null  object\n",
      " 2   terms      51774 non-null  object\n",
      "dtypes: object(3)\n",
      "memory usage: 1.2+ MB\n"
     ]
    }
   ],
   "source": [
    "# Cek tipe data dan Missing value yang ada\n",
    "\n",
    "df.info()\n",
    "\n",
    "# Tidak ada data Null atau None"
   ]
  },
  {
   "cell_type": "code",
   "execution_count": 6,
   "metadata": {},
   "outputs": [
    {
     "data": {
      "text/html": [
       "<div>\n",
       "<style scoped>\n",
       "    .dataframe tbody tr th:only-of-type {\n",
       "        vertical-align: middle;\n",
       "    }\n",
       "\n",
       "    .dataframe tbody tr th {\n",
       "        vertical-align: top;\n",
       "    }\n",
       "\n",
       "    .dataframe thead th {\n",
       "        text-align: right;\n",
       "    }\n",
       "</style>\n",
       "<table border=\"1\" class=\"dataframe\">\n",
       "  <thead>\n",
       "    <tr style=\"text-align: right;\">\n",
       "      <th></th>\n",
       "      <th>Attribute</th>\n",
       "      <th>Jumlah Missing Value</th>\n",
       "    </tr>\n",
       "  </thead>\n",
       "  <tbody>\n",
       "    <tr>\n",
       "      <th>0</th>\n",
       "      <td>titles</td>\n",
       "      <td>0</td>\n",
       "    </tr>\n",
       "    <tr>\n",
       "      <th>1</th>\n",
       "      <td>summaries</td>\n",
       "      <td>0</td>\n",
       "    </tr>\n",
       "    <tr>\n",
       "      <th>2</th>\n",
       "      <td>terms</td>\n",
       "      <td>0</td>\n",
       "    </tr>\n",
       "  </tbody>\n",
       "</table>\n",
       "</div>"
      ],
      "text/plain": [
       "   Attribute  Jumlah Missing Value\n",
       "0     titles                     0\n",
       "1  summaries                     0\n",
       "2      terms                     0"
      ]
     },
     "execution_count": 6,
     "metadata": {},
     "output_type": "execute_result"
    }
   ],
   "source": [
    "# CeK Jumlah Missing Value pada masing-masing attribute\n",
    "\n",
    "cek_missing_value = df.isna().sum().reset_index()\n",
    "cek_missing_value.columns = ['Attribute', 'Jumlah Missing Value']\n",
    "cek_missing_value\n",
    "\n",
    "# Tidak ada data Null atau None"
   ]
  },
  {
   "cell_type": "code",
   "execution_count": 7,
   "metadata": {},
   "outputs": [
    {
     "data": {
      "text/html": [
       "<div>\n",
       "<style scoped>\n",
       "    .dataframe tbody tr th:only-of-type {\n",
       "        vertical-align: middle;\n",
       "    }\n",
       "\n",
       "    .dataframe tbody tr th {\n",
       "        vertical-align: top;\n",
       "    }\n",
       "\n",
       "    .dataframe thead th {\n",
       "        text-align: right;\n",
       "    }\n",
       "</style>\n",
       "<table border=\"1\" class=\"dataframe\">\n",
       "  <thead>\n",
       "    <tr style=\"text-align: right;\">\n",
       "      <th></th>\n",
       "      <th>Kolom</th>\n",
       "      <th>Jumlah</th>\n",
       "    </tr>\n",
       "  </thead>\n",
       "  <tbody>\n",
       "    <tr>\n",
       "      <th>0</th>\n",
       "      <td>titles</td>\n",
       "      <td>38972</td>\n",
       "    </tr>\n",
       "    <tr>\n",
       "      <th>1</th>\n",
       "      <td>summaries</td>\n",
       "      <td>38979</td>\n",
       "    </tr>\n",
       "    <tr>\n",
       "      <th>2</th>\n",
       "      <td>terms</td>\n",
       "      <td>4022</td>\n",
       "    </tr>\n",
       "  </tbody>\n",
       "</table>\n",
       "</div>"
      ],
      "text/plain": [
       "       Kolom  Jumlah\n",
       "0     titles   38972\n",
       "1  summaries   38979\n",
       "2      terms    4022"
      ]
     },
     "execution_count": 7,
     "metadata": {},
     "output_type": "execute_result"
    }
   ],
   "source": [
    "# Cek nunique value pada attribute\n",
    "\n",
    "cek_nunique = df.nunique()\n",
    "cek_nunique = cek_nunique.to_frame(name='Jumlah')\n",
    "cek_nunique.reset_index(inplace=True)\n",
    "cek_nunique.rename(columns={'index': 'Kolom'}, inplace=True)\n",
    "cek_nunique"
   ]
  },
  {
   "cell_type": "code",
   "execution_count": 8,
   "metadata": {},
   "outputs": [
    {
     "data": {
      "text/html": [
       "<div>\n",
       "<style scoped>\n",
       "    .dataframe tbody tr th:only-of-type {\n",
       "        vertical-align: middle;\n",
       "    }\n",
       "\n",
       "    .dataframe tbody tr th {\n",
       "        vertical-align: top;\n",
       "    }\n",
       "\n",
       "    .dataframe thead th {\n",
       "        text-align: right;\n",
       "    }\n",
       "</style>\n",
       "<table border=\"1\" class=\"dataframe\">\n",
       "  <thead>\n",
       "    <tr style=\"text-align: right;\">\n",
       "      <th></th>\n",
       "      <th>titles</th>\n",
       "      <th>summaries</th>\n",
       "      <th>terms</th>\n",
       "    </tr>\n",
       "  </thead>\n",
       "  <tbody>\n",
       "    <tr>\n",
       "      <th>0</th>\n",
       "      <td>Survey on Semantic Stereo Matching / Semantic ...</td>\n",
       "      <td>Stereo matching is one of the widely used tech...</td>\n",
       "      <td>['cs.CV', 'cs.LG'\\]</td>\n",
       "    </tr>\n",
       "    <tr>\n",
       "      <th>1</th>\n",
       "      <td>FUTURE-AI: Guiding Principles and Consensus Re...</td>\n",
       "      <td>The recent advancements in artificial intellig...</td>\n",
       "      <td>['cs.CV', 'cs.AI', 'cs.LG'\\]</td>\n",
       "    </tr>\n",
       "    <tr>\n",
       "      <th>2</th>\n",
       "      <td>Enforcing Mutual Consistency of Hard Regions f...</td>\n",
       "      <td>In this paper, we proposed a novel mutual cons...</td>\n",
       "      <td>['cs.CV', 'cs.AI'\\]</td>\n",
       "    </tr>\n",
       "    <tr>\n",
       "      <th>3</th>\n",
       "      <td>Parameter Decoupling Strategy for Semi-supervi...</td>\n",
       "      <td>Consistency training has proven to be an advan...</td>\n",
       "      <td>['cs.CV']</td>\n",
       "    </tr>\n",
       "    <tr>\n",
       "      <th>4</th>\n",
       "      <td>Background-Foreground Segmentation for Interio...</td>\n",
       "      <td>To ensure safety in automated driving, the cor...</td>\n",
       "      <td>['cs.CV', 'cs.LG'\\]</td>\n",
       "    </tr>\n",
       "    <tr>\n",
       "      <th>...</th>\n",
       "      <td>...</td>\n",
       "      <td>...</td>\n",
       "      <td>...</td>\n",
       "    </tr>\n",
       "    <tr>\n",
       "      <th>51727</th>\n",
       "      <td>Graph Memory Networks for Molecular Activity P...</td>\n",
       "      <td>Molecular activity prediction is critical in d...</td>\n",
       "      <td>['cs.LG']</td>\n",
       "    </tr>\n",
       "    <tr>\n",
       "      <th>51732</th>\n",
       "      <td>Stacked Denoising Autoencoders and Transfer Le...</td>\n",
       "      <td>In this paper we present a system for the dete...</td>\n",
       "      <td>['cs.CV']</td>\n",
       "    </tr>\n",
       "    <tr>\n",
       "      <th>51741</th>\n",
       "      <td>ChemGAN challenge for drug discovery: can AI r...</td>\n",
       "      <td>Generating molecules with desired chemical pro...</td>\n",
       "      <td>['stat.ML', 'cs.AI', 'cs.LG']</td>\n",
       "    </tr>\n",
       "    <tr>\n",
       "      <th>51769</th>\n",
       "      <td>Hierarchically-coupled hidden Markov models fo...</td>\n",
       "      <td>We address the problem of analyzing sets of no...</td>\n",
       "      <td>['stat.ML', 'physics.bio-ph', 'q-bio.QM']</td>\n",
       "    </tr>\n",
       "    <tr>\n",
       "      <th>51773</th>\n",
       "      <td>SparseCodePicking: feature extraction in mass ...</td>\n",
       "      <td>Mass spectrometry (MS) is an important techniq...</td>\n",
       "      <td>['stat.ML', 'physics.med-ph', 'stat.AP', 'stat...</td>\n",
       "    </tr>\n",
       "  </tbody>\n",
       "</table>\n",
       "<p>18005 rows × 3 columns</p>\n",
       "</div>"
      ],
      "text/plain": [
       "                                                  titles   \n",
       "0      Survey on Semantic Stereo Matching / Semantic ...  \\\n",
       "1      FUTURE-AI: Guiding Principles and Consensus Re...   \n",
       "2      Enforcing Mutual Consistency of Hard Regions f...   \n",
       "3      Parameter Decoupling Strategy for Semi-supervi...   \n",
       "4      Background-Foreground Segmentation for Interio...   \n",
       "...                                                  ...   \n",
       "51727  Graph Memory Networks for Molecular Activity P...   \n",
       "51732  Stacked Denoising Autoencoders and Transfer Le...   \n",
       "51741  ChemGAN challenge for drug discovery: can AI r...   \n",
       "51769  Hierarchically-coupled hidden Markov models fo...   \n",
       "51773  SparseCodePicking: feature extraction in mass ...   \n",
       "\n",
       "                                               summaries   \n",
       "0      Stereo matching is one of the widely used tech...  \\\n",
       "1      The recent advancements in artificial intellig...   \n",
       "2      In this paper, we proposed a novel mutual cons...   \n",
       "3      Consistency training has proven to be an advan...   \n",
       "4      To ensure safety in automated driving, the cor...   \n",
       "...                                                  ...   \n",
       "51727  Molecular activity prediction is critical in d...   \n",
       "51732  In this paper we present a system for the dete...   \n",
       "51741  Generating molecules with desired chemical pro...   \n",
       "51769  We address the problem of analyzing sets of no...   \n",
       "51773  Mass spectrometry (MS) is an important techniq...   \n",
       "\n",
       "                                                   terms  \n",
       "0                                    ['cs.CV', 'cs.LG'\\]  \n",
       "1                           ['cs.CV', 'cs.AI', 'cs.LG'\\]  \n",
       "2                                    ['cs.CV', 'cs.AI'\\]  \n",
       "3                                              ['cs.CV']  \n",
       "4                                    ['cs.CV', 'cs.LG'\\]  \n",
       "...                                                  ...  \n",
       "51727                                          ['cs.LG']  \n",
       "51732                                          ['cs.CV']  \n",
       "51741                      ['stat.ML', 'cs.AI', 'cs.LG']  \n",
       "51769          ['stat.ML', 'physics.bio-ph', 'q-bio.QM']  \n",
       "51773  ['stat.ML', 'physics.med-ph', 'stat.AP', 'stat...  \n",
       "\n",
       "[18005 rows x 3 columns]"
      ]
     },
     "execution_count": 8,
     "metadata": {},
     "output_type": "execute_result"
    }
   ],
   "source": [
    "# Cek jumlah Duplikat yang sama persis\n",
    "\n",
    "df[df.duplicated(keep=False)]\n",
    "\n",
    "# Terdapat 18005 data duplikat yang sama persis, dari 51774 baris data"
   ]
  },
  {
   "cell_type": "code",
   "execution_count": 9,
   "metadata": {},
   "outputs": [
    {
     "data": {
      "text/html": [
       "<div>\n",
       "<style scoped>\n",
       "    .dataframe tbody tr th:only-of-type {\n",
       "        vertical-align: middle;\n",
       "    }\n",
       "\n",
       "    .dataframe tbody tr th {\n",
       "        vertical-align: top;\n",
       "    }\n",
       "\n",
       "    .dataframe thead th {\n",
       "        text-align: right;\n",
       "    }\n",
       "</style>\n",
       "<table border=\"1\" class=\"dataframe\">\n",
       "  <thead>\n",
       "    <tr style=\"text-align: right;\">\n",
       "      <th></th>\n",
       "      <th>titles</th>\n",
       "      <th>summaries</th>\n",
       "      <th>terms</th>\n",
       "    </tr>\n",
       "  </thead>\n",
       "  <tbody>\n",
       "    <tr>\n",
       "      <th>0</th>\n",
       "      <td>Survey on Semantic Stereo Matching / Semantic ...</td>\n",
       "      <td>Stereo matching is one of the widely used tech...</td>\n",
       "      <td>['cs.CV', 'cs.LG'\\]</td>\n",
       "    </tr>\n",
       "    <tr>\n",
       "      <th>1</th>\n",
       "      <td>FUTURE-AI: Guiding Principles and Consensus Re...</td>\n",
       "      <td>The recent advancements in artificial intellig...</td>\n",
       "      <td>['cs.CV', 'cs.AI', 'cs.LG'\\]</td>\n",
       "    </tr>\n",
       "    <tr>\n",
       "      <th>2</th>\n",
       "      <td>Enforcing Mutual Consistency of Hard Regions f...</td>\n",
       "      <td>In this paper, we proposed a novel mutual cons...</td>\n",
       "      <td>['cs.CV', 'cs.AI'\\]</td>\n",
       "    </tr>\n",
       "    <tr>\n",
       "      <th>3</th>\n",
       "      <td>Parameter Decoupling Strategy for Semi-supervi...</td>\n",
       "      <td>Consistency training has proven to be an advan...</td>\n",
       "      <td>['cs.CV']</td>\n",
       "    </tr>\n",
       "    <tr>\n",
       "      <th>4</th>\n",
       "      <td>Background-Foreground Segmentation for Interio...</td>\n",
       "      <td>To ensure safety in automated driving, the cor...</td>\n",
       "      <td>['cs.CV', 'cs.LG'\\]</td>\n",
       "    </tr>\n",
       "    <tr>\n",
       "      <th>...</th>\n",
       "      <td>...</td>\n",
       "      <td>...</td>\n",
       "      <td>...</td>\n",
       "    </tr>\n",
       "    <tr>\n",
       "      <th>42028</th>\n",
       "      <td>A Ray-based Approach for Boundary Estimation o...</td>\n",
       "      <td>Diffusion Tensor Imaging (DTI) is a non-invasi...</td>\n",
       "      <td>['cs.CV']</td>\n",
       "    </tr>\n",
       "    <tr>\n",
       "      <th>42029</th>\n",
       "      <td>Statistical Denoising for single molecule fluo...</td>\n",
       "      <td>Single molecule fluorescence microscopy is a p...</td>\n",
       "      <td>['cs.CV']</td>\n",
       "    </tr>\n",
       "    <tr>\n",
       "      <th>42030</th>\n",
       "      <td>Blinking Molecule Tracking</td>\n",
       "      <td>We discuss a method for tracking individual mo...</td>\n",
       "      <td>['cs.CV', 'cs.DM']</td>\n",
       "    </tr>\n",
       "    <tr>\n",
       "      <th>42031</th>\n",
       "      <td>Towards a Mathematical Foundation of Immunolog...</td>\n",
       "      <td>We attempt to set a mathematical foundation of...</td>\n",
       "      <td>['stat.ML', 'cs.LG', 'q-bio.GN']</td>\n",
       "    </tr>\n",
       "    <tr>\n",
       "      <th>42032</th>\n",
       "      <td>A Semi-Automatic Graph-Based Approach for Dete...</td>\n",
       "      <td>Diffusion Tensor Imaging (DTI) allows estimati...</td>\n",
       "      <td>['cs.CV']</td>\n",
       "    </tr>\n",
       "  </tbody>\n",
       "</table>\n",
       "<p>42033 rows × 3 columns</p>\n",
       "</div>"
      ],
      "text/plain": [
       "                                                  titles   \n",
       "0      Survey on Semantic Stereo Matching / Semantic ...  \\\n",
       "1      FUTURE-AI: Guiding Principles and Consensus Re...   \n",
       "2      Enforcing Mutual Consistency of Hard Regions f...   \n",
       "3      Parameter Decoupling Strategy for Semi-supervi...   \n",
       "4      Background-Foreground Segmentation for Interio...   \n",
       "...                                                  ...   \n",
       "42028  A Ray-based Approach for Boundary Estimation o...   \n",
       "42029  Statistical Denoising for single molecule fluo...   \n",
       "42030                         Blinking Molecule Tracking   \n",
       "42031  Towards a Mathematical Foundation of Immunolog...   \n",
       "42032  A Semi-Automatic Graph-Based Approach for Dete...   \n",
       "\n",
       "                                               summaries   \n",
       "0      Stereo matching is one of the widely used tech...  \\\n",
       "1      The recent advancements in artificial intellig...   \n",
       "2      In this paper, we proposed a novel mutual cons...   \n",
       "3      Consistency training has proven to be an advan...   \n",
       "4      To ensure safety in automated driving, the cor...   \n",
       "...                                                  ...   \n",
       "42028  Diffusion Tensor Imaging (DTI) is a non-invasi...   \n",
       "42029  Single molecule fluorescence microscopy is a p...   \n",
       "42030  We discuss a method for tracking individual mo...   \n",
       "42031  We attempt to set a mathematical foundation of...   \n",
       "42032  Diffusion Tensor Imaging (DTI) allows estimati...   \n",
       "\n",
       "                                  terms  \n",
       "0                   ['cs.CV', 'cs.LG'\\]  \n",
       "1          ['cs.CV', 'cs.AI', 'cs.LG'\\]  \n",
       "2                   ['cs.CV', 'cs.AI'\\]  \n",
       "3                             ['cs.CV']  \n",
       "4                   ['cs.CV', 'cs.LG'\\]  \n",
       "...                                 ...  \n",
       "42028                         ['cs.CV']  \n",
       "42029                         ['cs.CV']  \n",
       "42030                ['cs.CV', 'cs.DM']  \n",
       "42031  ['stat.ML', 'cs.LG', 'q-bio.GN']  \n",
       "42032                         ['cs.CV']  \n",
       "\n",
       "[42033 rows x 3 columns]"
      ]
     },
     "execution_count": 9,
     "metadata": {},
     "output_type": "execute_result"
    }
   ],
   "source": [
    "# Menghapus data duplikat yang sama persis\n",
    "\n",
    "df = df.drop_duplicates(keep='first')\n",
    "df = df.reset_index(drop=True)\n",
    "df\n",
    "\n",
    "# Berhasil menghapus data duplikat yang menyisakan 42033 Baris data"
   ]
  },
  {
   "cell_type": "markdown",
   "metadata": {},
   "source": [
    "# E. Data Exploration"
   ]
  },
  {
   "cell_type": "code",
   "execution_count": 10,
   "metadata": {},
   "outputs": [
    {
     "data": {
      "text/html": [
       "<div>\n",
       "<style scoped>\n",
       "    .dataframe tbody tr th:only-of-type {\n",
       "        vertical-align: middle;\n",
       "    }\n",
       "\n",
       "    .dataframe tbody tr th {\n",
       "        vertical-align: top;\n",
       "    }\n",
       "\n",
       "    .dataframe thead th {\n",
       "        text-align: right;\n",
       "    }\n",
       "</style>\n",
       "<table border=\"1\" class=\"dataframe\">\n",
       "  <thead>\n",
       "    <tr style=\"text-align: right;\">\n",
       "      <th></th>\n",
       "      <th>titles</th>\n",
       "      <th>summaries</th>\n",
       "      <th>terms</th>\n",
       "    </tr>\n",
       "  </thead>\n",
       "  <tbody>\n",
       "    <tr>\n",
       "      <th>count</th>\n",
       "      <td>42033</td>\n",
       "      <td>42033</td>\n",
       "      <td>42033</td>\n",
       "    </tr>\n",
       "    <tr>\n",
       "      <th>unique</th>\n",
       "      <td>38972</td>\n",
       "      <td>38979</td>\n",
       "      <td>4022</td>\n",
       "    </tr>\n",
       "    <tr>\n",
       "      <th>top</th>\n",
       "      <td>Learnable Hypergraph Laplacian for Hypergraph ...</td>\n",
       "      <td>Transformer is a powerful tool for many natura...</td>\n",
       "      <td>['cs.CV']</td>\n",
       "    </tr>\n",
       "    <tr>\n",
       "      <th>freq</th>\n",
       "      <td>3</td>\n",
       "      <td>3</td>\n",
       "      <td>12753</td>\n",
       "    </tr>\n",
       "  </tbody>\n",
       "</table>\n",
       "</div>"
      ],
      "text/plain": [
       "                                                   titles   \n",
       "count                                               42033  \\\n",
       "unique                                              38972   \n",
       "top     Learnable Hypergraph Laplacian for Hypergraph ...   \n",
       "freq                                                    3   \n",
       "\n",
       "                                                summaries      terms  \n",
       "count                                               42033      42033  \n",
       "unique                                              38979       4022  \n",
       "top     Transformer is a powerful tool for many natura...  ['cs.CV']  \n",
       "freq                                                    3      12753  "
      ]
     },
     "execution_count": 10,
     "metadata": {},
     "output_type": "execute_result"
    }
   ],
   "source": [
    "# Cek Descrie dari data\n",
    "\n",
    "df.describe()"
   ]
  },
  {
   "cell_type": "markdown",
   "metadata": {},
   "source": [
    "# F. Data Preprocessing"
   ]
  },
  {
   "cell_type": "markdown",
   "metadata": {},
   "source": [
    "Tahap ini mencakup prapemrosesan data teks pada setiap poin dataset agar lebih mudah dianalisis. Proses-proses yang dilakukan mencakup casefolding, tokenisasi, stop word removal, dan lemmatisasi."
   ]
  },
  {
   "cell_type": "markdown",
   "metadata": {},
   "source": [
    "## F.1 Fungsi Case Folding, Tokenization, Stop Word, Lemmatisasi, TF-IDF"
   ]
  },
  {
   "cell_type": "code",
   "execution_count": 11,
   "metadata": {},
   "outputs": [],
   "source": [
    "def remove_punctuation(text):\n",
    "    text = \"\".join([char for char in text if char not in string.punctuation])\n",
    "    text = re.sub(r'\\s+', ' ', text)\n",
    "    return text\n",
    "\n",
    "def get_wordnet_pos(treebank_tag):\n",
    "    if treebank_tag.startswith('J'):\n",
    "        return wordnet.ADJ\n",
    "    elif treebank_tag.startswith('V'):\n",
    "        return wordnet.VERB\n",
    "    elif treebank_tag.startswith('N'):\n",
    "        return wordnet.NOUN\n",
    "    elif treebank_tag.startswith('R'):\n",
    "        return wordnet.ADV\n",
    "    else:\n",
    "        return ''\n",
    "\n",
    "def preprocess_text(text, lang='english'):\n",
    "    text = remove_punctuation(text.lower())\n",
    "    words = word_tokenize(text)\n",
    "    stop_words = set(stopwords.words(lang))\n",
    "    words = [word for word in words if word not in stop_words]\n",
    "    tagged = pos_tag(words)\n",
    "    lemmatizer = WordNetLemmatizer()\n",
    "    result = [lemmatizer.lemmatize(word[0], pos=get_wordnet_pos(word[1]) or wordnet.NOUN) for word in tagged]\n",
    "    result = ' '.join(result) \n",
    "    return result"
   ]
  },
  {
   "cell_type": "markdown",
   "metadata": {},
   "source": [
    "## F.2 Implementasi"
   ]
  },
  {
   "cell_type": "markdown",
   "metadata": {},
   "source": [
    "### F.2.1 Testing Text"
   ]
  },
  {
   "cell_type": "code",
   "execution_count": 12,
   "metadata": {},
   "outputs": [
    {
     "name": "stdout",
     "output_type": "stream",
     "text": [
      "example text preprocessing use nltk include casefolding tokenization stopword removal stem\n"
     ]
    }
   ],
   "source": [
    "text = \"This is an examples of text preprocessing using NLTK. It includes casefolding, tokenization, stopword removal, and stemming.\"\n",
    "preprocessed_text = preprocess_text(text, 'english')\n",
    "print(preprocessed_text)"
   ]
  },
  {
   "cell_type": "markdown",
   "metadata": {},
   "source": [
    "### F.3 Implementasi pada Dataset summaries"
   ]
  },
  {
   "cell_type": "code",
   "execution_count": 13,
   "metadata": {},
   "outputs": [],
   "source": [
    "# Mengambil 500 data pertama saja untuk mempercepat proses\n",
    "\n",
    "journalDtf = df[:500].copy() "
   ]
  },
  {
   "cell_type": "code",
   "execution_count": 14,
   "metadata": {},
   "outputs": [
    {
     "data": {
      "text/html": [
       "<div>\n",
       "<style scoped>\n",
       "    .dataframe tbody tr th:only-of-type {\n",
       "        vertical-align: middle;\n",
       "    }\n",
       "\n",
       "    .dataframe tbody tr th {\n",
       "        vertical-align: top;\n",
       "    }\n",
       "\n",
       "    .dataframe thead th {\n",
       "        text-align: right;\n",
       "    }\n",
       "</style>\n",
       "<table border=\"1\" class=\"dataframe\">\n",
       "  <thead>\n",
       "    <tr style=\"text-align: right;\">\n",
       "      <th></th>\n",
       "      <th>summaries</th>\n",
       "    </tr>\n",
       "  </thead>\n",
       "  <tbody>\n",
       "    <tr>\n",
       "      <th>0</th>\n",
       "      <td>Stereo matching is one of the widely used tech...</td>\n",
       "    </tr>\n",
       "    <tr>\n",
       "      <th>1</th>\n",
       "      <td>The recent advancements in artificial intellig...</td>\n",
       "    </tr>\n",
       "    <tr>\n",
       "      <th>2</th>\n",
       "      <td>In this paper, we proposed a novel mutual cons...</td>\n",
       "    </tr>\n",
       "    <tr>\n",
       "      <th>3</th>\n",
       "      <td>Consistency training has proven to be an advan...</td>\n",
       "    </tr>\n",
       "    <tr>\n",
       "      <th>4</th>\n",
       "      <td>To ensure safety in automated driving, the cor...</td>\n",
       "    </tr>\n",
       "  </tbody>\n",
       "</table>\n",
       "</div>"
      ],
      "text/plain": [
       "                                           summaries\n",
       "0  Stereo matching is one of the widely used tech...\n",
       "1  The recent advancements in artificial intellig...\n",
       "2  In this paper, we proposed a novel mutual cons...\n",
       "3  Consistency training has proven to be an advan...\n",
       "4  To ensure safety in automated driving, the cor..."
      ]
     },
     "execution_count": 14,
     "metadata": {},
     "output_type": "execute_result"
    }
   ],
   "source": [
    "# Sebelum\n",
    "\n",
    "journalDtf['summaries'].head().to_frame()"
   ]
  },
  {
   "cell_type": "code",
   "execution_count": 15,
   "metadata": {},
   "outputs": [
    {
     "data": {
      "text/html": [
       "<div>\n",
       "<style scoped>\n",
       "    .dataframe tbody tr th:only-of-type {\n",
       "        vertical-align: middle;\n",
       "    }\n",
       "\n",
       "    .dataframe tbody tr th {\n",
       "        vertical-align: top;\n",
       "    }\n",
       "\n",
       "    .dataframe thead th {\n",
       "        text-align: right;\n",
       "    }\n",
       "</style>\n",
       "<table border=\"1\" class=\"dataframe\">\n",
       "  <thead>\n",
       "    <tr style=\"text-align: right;\">\n",
       "      <th></th>\n",
       "      <th>summaries</th>\n",
       "    </tr>\n",
       "  </thead>\n",
       "  <tbody>\n",
       "    <tr>\n",
       "      <th>0</th>\n",
       "      <td>stereo match one widely use technique infer de...</td>\n",
       "    </tr>\n",
       "    <tr>\n",
       "      <th>1</th>\n",
       "      <td>recent advancement artificial intelligence ai ...</td>\n",
       "    </tr>\n",
       "    <tr>\n",
       "      <th>2</th>\n",
       "      <td>paper propose novel mutual consistency network...</td>\n",
       "    </tr>\n",
       "    <tr>\n",
       "      <th>3</th>\n",
       "      <td>consistency train proven advance semisupervise...</td>\n",
       "    </tr>\n",
       "    <tr>\n",
       "      <th>4</th>\n",
       "      <td>ensure safety automate drive correct perceptio...</td>\n",
       "    </tr>\n",
       "  </tbody>\n",
       "</table>\n",
       "</div>"
      ],
      "text/plain": [
       "                                           summaries\n",
       "0  stereo match one widely use technique infer de...\n",
       "1  recent advancement artificial intelligence ai ...\n",
       "2  paper propose novel mutual consistency network...\n",
       "3  consistency train proven advance semisupervise...\n",
       "4  ensure safety automate drive correct perceptio..."
      ]
     },
     "execution_count": 15,
     "metadata": {},
     "output_type": "execute_result"
    }
   ],
   "source": [
    "# Sesudah\n",
    "\n",
    "journalDtf['summaries'] = journalDtf['summaries'].apply(preprocess_text)\n",
    "journalDtf['summaries'].head().to_frame()"
   ]
  },
  {
   "cell_type": "code",
   "execution_count": 16,
   "metadata": {},
   "outputs": [
    {
     "name": "stdout",
     "output_type": "stream",
     "text": [
      "vectorization done in 0.071 s\n",
      "n_samples: 500, n_features: 6169\n"
     ]
    }
   ],
   "source": [
    "# Ekstraksi fitur dilakukan dengan menghitung vektor bobot TF-IDF \n",
    "# untuk setiap data teks yang sudah terproses.\n",
    "\n",
    "t0 = time()\n",
    "\n",
    "vectorizer = TfidfVectorizer()\n",
    "X_tfidf = vectorizer.fit_transform(journalDtf['summaries'])\n",
    "\n",
    "print(f\"vectorization done in {time() - t0:.3f} s\")\n",
    "print(f\"n_samples: {X_tfidf.shape[0]}, n_features: {X_tfidf.shape[1]}\")"
   ]
  },
  {
   "cell_type": "markdown",
   "metadata": {},
   "source": [
    "# G. Dimensionality Reduction dengan *Latent Semantic Analysis* (LSA) dan K-Means Clustering"
   ]
  },
  {
   "cell_type": "markdown",
   "metadata": {},
   "source": [
    "Tahap ini dilakukan untuk mengurangi dimensi dari dataset agar dapat mempercepat algoritma clustering."
   ]
  },
  {
   "cell_type": "code",
   "execution_count": 17,
   "metadata": {},
   "outputs": [
    {
     "name": "stdout",
     "output_type": "stream",
     "text": [
      "Explained variance of the SVD step: 39.1%\n"
     ]
    }
   ],
   "source": [
    "# Reduksi dimensi dengan LSA\n",
    "\n",
    "lsa = make_pipeline(TruncatedSVD(n_components=100), Normalizer(copy=False))\n",
    "X_lsa = lsa.fit_transform(X_tfidf)\n",
    "explained_variance = lsa.named_steps['truncatedsvd'].explained_variance_ratio_.sum()\n",
    "print(f\"Explained variance of the SVD step: {explained_variance * 100:.1f}%\")"
   ]
  },
  {
   "cell_type": "markdown",
   "metadata": {},
   "source": [
    "Pencarian K menggunakan *Elbow Method* dengan *Cosine Similarity* \n",
    "\n",
    "Tahap ini dilakukan untuk mengetahui nilai K yang dapat digunakan untuk algoritma clustering. Perhitungan dilakukan dengan menghitung nilai distorsi pada setiap nilai k untuk mencari posisi \"siku\" dalam grafik yang ada. Untuk membantu dalam perhitungan, nilai jarak yang digunakan adalah *cosine distance*, yang merupakan nilai komplemen dari *Cosine Similarity*.\n"
   ]
  },
  {
   "cell_type": "code",
   "execution_count": 18,
   "metadata": {},
   "outputs": [
    {
     "data": {
      "image/png": "[encoded data removed]",
      "text/plain": [
       "<Figure size 640x480 with 1 Axes>"
      ]
     },
     "metadata": {},
     "output_type": "display_data"
    }
   ],
   "source": [
    "# Jarak antar poin ditetapkan sebagai invers dari nilai cosine similarity\n",
    "X_cosine_distance = 1 - pairwise_distances(X_lsa, metric='cosine')\n",
    "\n",
    "inertias = []\n",
    "K_values = range(2, 50)\n",
    "\n",
    "for k in K_values:\n",
    "    kmeans_model = KMeans(n_clusters=k, \n",
    "                          n_init=1,\n",
    "                          random_state=42)\n",
    "    kmeans_model.fit(X_cosine_distance)\n",
    "    inertias.append(kmeans_model.inertia_ / X_cosine_distance.shape[0])\n",
    "\n",
    "plt.plot(K_values, inertias, 'o-')\n",
    "plt.xlabel('Values of K')\n",
    "plt.ylabel('Distortion')\n",
    "plt.title('Elbow Method')\n",
    "plt.show()"
   ]
  },
  {
   "cell_type": "markdown",
   "metadata": {},
   "source": [
    "Dengan mempertimbangkan hasil grafik dari antara distorsi dan nilai K. Nilai K yang dapat diambil adalah 2 \\<= K \\<= 20"
   ]
  },
  {
   "cell_type": "code",
   "execution_count": 19,
   "metadata": {},
   "outputs": [
    {
     "data": {
      "image/png": "[encoded data removed]",
      "text/plain": [
       "<Figure size 640x480 with 1 Axes>"
      ]
     },
     "metadata": {},
     "output_type": "display_data"
    }
   ],
   "source": [
    "# Jarak antar poin ditetapkan sebagai invers dari nilai cosine similarity\n",
    "X_cosine_distance = 1 - pairwise_distances(X_lsa, metric='cosine')\n",
    "\n",
    "silhouette_scores = []\n",
    "K_values = range(2, 50) \n",
    "\n",
    "for k in K_values:\n",
    "    kmeans_model = KMeans(n_clusters=k, \n",
    "                          n_init=1,\n",
    "                          random_state=42)\n",
    "    kmeans_labels = kmeans_model.fit_predict(X_cosine_distance)\n",
    "    silhouette_avg = silhouette_score(X_cosine_distance, kmeans_labels)\n",
    "    silhouette_scores.append(silhouette_avg)\n",
    "\n",
    "plt.plot(K_values, silhouette_scores, 'o-')\n",
    "plt.xlabel('Values of K')\n",
    "plt.ylabel('Silhouette Score')\n",
    "plt.title('Silhouette Method')\n",
    "plt.show()\n"
   ]
  },
  {
   "cell_type": "markdown",
   "metadata": {},
   "source": [
    "# H. Evaluation"
   ]
  },
  {
   "cell_type": "markdown",
   "metadata": {},
   "source": [
    "## H.1 Silhouette Score"
   ]
  },
  {
   "cell_type": "code",
   "execution_count": 20,
   "metadata": {},
   "outputs": [
    {
     "data": {
      "image/png": "[encoded data removed]",
      "text/plain": [
       "<Figure size 640x480 with 1 Axes>"
      ]
     },
     "metadata": {},
     "output_type": "display_data"
    }
   ],
   "source": [
    "K_values = range(2, 30)\n",
    "scores = []\n",
    "\n",
    "for k in K_values:\n",
    "    kmeans_model = KMeans(n_clusters=k, \n",
    "                          n_init=1,\n",
    "                          random_state=42)\n",
    "    kmeans_model.fit(X_cosine_distance)\n",
    "    scores.append(metrics.silhouette_score(X_cosine_distance, kmeans_model.labels_, sample_size=500))\n",
    "\n",
    "plt.plot(K_values, scores, 'o-')\n",
    "plt.xticks(K_values, rotation = 90)\n",
    "plt.xlabel('Values of K')\n",
    "plt.ylabel('Silhouette Score')\n",
    "plt.title('Silhouette Scores of K')\n",
    "plt.show()"
   ]
  },
  {
   "cell_type": "markdown",
   "metadata": {},
   "source": [
    "Dari hasil perhitungan silhouette score berbagai nilai K berbeda didapatkan nilai K terbaik K = 2"
   ]
  },
  {
   "cell_type": "markdown",
   "metadata": {},
   "source": [
    "# I. Top Terms per clusters"
   ]
  },
  {
   "cell_type": "code",
   "execution_count": 21,
   "metadata": {},
   "outputs": [
    {
     "name": "stdout",
     "output_type": "stream",
     "text": [
      "Cluster 0: segmentation label image data learn domain annotation medical method model \n",
      "Cluster 1: image segmentation model network method propose feature use object semantic \n"
     ]
    }
   ],
   "source": [
    "kmeans_model = KMeans(n_clusters=2, n_init=10)\n",
    "kmeans_model.fit(X_tfidf)\n",
    "\n",
    "order_centroids = kmeans_model.cluster_centers_.argsort()[:, ::-1]\n",
    "terms = vectorizer.get_feature_names_out()\n",
    "\n",
    "for i in range(2):\n",
    "    print(f\"Cluster {i}: \", end=\"\")\n",
    "    for ind in order_centroids[i, :10]:\n",
    "        print(f\"{terms[ind]} \", end=\"\")\n",
    "    print()"
   ]
  }
 ],
 "metadata": {
  "kernelspec": {
   "display_name": "Python 3 (ipykernel)",
   "language": "python",
   "name": "python3"
  },
  "language_info": {
   "codemirror_mode": {
    "name": "ipython",
    "version": 3
   },
   "file_extension": ".py",
   "mimetype": "text/x-python",
   "name": "python",
   "nbconvert_exporter": "python",
   "pygments_lexer": "ipython3",
   "version": "3.10.9"
  }
 },
 "nbformat": 4,
 "nbformat_minor": 2
}
